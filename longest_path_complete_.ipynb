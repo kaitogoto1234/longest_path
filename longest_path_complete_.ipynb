{
  "nbformat": 4,
  "nbformat_minor": 0,
  "metadata": {
    "colab": {
      "provenance": [],
      "authorship_tag": "ABX9TyN8V9s0qHh48gBxj2Zoh5hj",
      "include_colab_link": true
    },
    "kernelspec": {
      "name": "python3",
      "display_name": "Python 3"
    },
    "language_info": {
      "name": "python"
    }
  },
  "cells": [
    {
      "cell_type": "markdown",
      "metadata": {
        "id": "view-in-github",
        "colab_type": "text"
      },
      "source": [
        "<a href=\"https://colab.research.google.com/github/kaitogoto1234/longest_path/blob/main/longest_path_complete_.ipynb\" target=\"_parent\"><img src=\"https://colab.research.google.com/assets/colab-badge.svg\" alt=\"Open In Colab\"/></a>"
      ]
    },
    {
      "cell_type": "code",
      "source": [
        "from collections import defaultdict\n",
        "\n",
        "# グラフの構築\n",
        "def build_graph(edges):\n",
        "    graph = defaultdict(list)\n",
        "    for start, end, weight in edges:\n",
        "        graph[start].append((end, weight))\n",
        "    return graph\n",
        "\n",
        "# 深さ優先探索 (DFS) で最長経路を見つける\n",
        "def find_longest_path(graph, node, start_node, visited, current_path, current_length, max_path_info):\n",
        "    visited.add(node)\n",
        "    current_path.append(node)\n",
        "\n",
        "    # 最大距離とそのパスを更新 (訪問リストが2つ以上あり、始点に戻った場合)\n",
        "    if current_length > max_path_info['max_length'] and current_path[-1] == start_node and len(current_path) > 1:\n",
        "        max_path_info['max_length'] = current_length\n",
        "        max_path_info['max_path'] = current_path[:]\n",
        "\n",
        "    for neighbor, weight in graph[node]:\n",
        "        if neighbor not in visited or (neighbor == start_node and len(current_path) > 1):\n",
        "            find_longest_path(graph, neighbor, start_node, visited, current_path, current_length + weight, max_path_info)\n",
        "\n",
        "    # 探索終了後に訪問を解除 (存在チェックを追加)\n",
        "    if node in visited:\n",
        "        visited.remove(node)\n",
        "    current_path.pop()\n",
        "\n",
        "# 入力を処理して結果を出力する\n",
        "def main():\n",
        "    print(\"データを入力してください。形式: 始点ID, 終点ID, 距離 (例: 1, 2, 8.54)。終了するには空行を入力してください。\")\n",
        "    edges = []\n",
        "\n",
        "    while True:\n",
        "        line = input()\n",
        "        if line.strip() == \"\":\n",
        "            break\n",
        "        try:\n",
        "            start, end, weight = line.split(',')\n",
        "            edges.append((int(start.strip()), int(end.strip()), float(weight.strip())))\n",
        "        except ValueError:\n",
        "            print(\"正しい形式で入力してください (例: 1, 2, 8.54)。\")\n",
        "\n",
        "    # グラフを構築\n",
        "    graph = build_graph(edges)\n",
        "\n",
        "    # 最長経路を計算\n",
        "    max_path_info = {'max_length': 0, 'max_path': []}\n",
        "    for start_node in graph.keys():\n",
        "        find_longest_path(graph, start_node, start_node, set(), [], 0, max_path_info)\n",
        "\n",
        "    # 結果を出力\n",
        "    print(\"最長距離:\", max_path_info['max_length'])\n",
        "    print(\"最長経路:\", \" -> \".join(map(str, max_path_info['max_path'])))\n",
        "\n",
        "if __name__ == \"__main__\":\n",
        "    main()"
      ],
      "metadata": {
        "id": "MX6ZumwLzW7m"
      },
      "execution_count": null,
      "outputs": []
    }
  ]
}
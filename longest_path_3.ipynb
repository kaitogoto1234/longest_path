{
  "nbformat": 4,
  "nbformat_minor": 0,
  "metadata": {
    "colab": {
      "provenance": [],
      "authorship_tag": "ABX9TyN49O9zvKCMKDvjTg/bgB5w",
      "include_colab_link": true
    },
    "kernelspec": {
      "name": "python3",
      "display_name": "Python 3"
    },
    "language_info": {
      "name": "python"
    }
  },
  "cells": [
    {
      "cell_type": "markdown",
      "metadata": {
        "id": "view-in-github",
        "colab_type": "text"
      },
      "source": [
        "<a href=\"https://colab.research.google.com/github/kaitogoto1234/longest_path/blob/main/longest_path_3.ipynb\" target=\"_parent\"><img src=\"https://colab.research.google.com/assets/colab-badge.svg\" alt=\"Open In Colab\"/></a>"
      ]
    },
    {
      "cell_type": "code",
      "execution_count": null,
      "metadata": {
        "colab": {
          "base_uri": "https://localhost:8080/"
        },
        "id": "7_Tw59ItkHN0",
        "outputId": "94ce7159-2a40-42f8-8ab6-cdb04c7a0b95"
      },
      "outputs": [
        {
          "output_type": "stream",
          "name": "stdout",
          "text": [
            "最長片道きっぷの駅順\n",
            "始点ID, 終点ID, 距離 (例: 1, 2, 8.54)\n",
            "入力を終了するには空行を入力してください。\n"
          ]
        }
      ],
      "source": [
        "from collections import defaultdict\n",
        "\n",
        "# グラフの構築\n",
        "def build_graph(edges):\n",
        "    graph = defaultdict(list)\n",
        "    for start, end, weight in edges:\n",
        "        graph[start].append((end, weight))\n",
        "    return graph\n",
        "\n",
        "# 深さ優先探索で最長経路を見つける\n",
        "def dfs(graph, node, start_node, visited, current_path, current_length, max_path_info):\n",
        "    current_path.append(node)\n",
        "\n",
        "    # 最大距離とそのパスを更新\n",
        "    if current_length > max_path_info['max_length']:\n",
        "        max_path_info['max_length'] = current_length\n",
        "        max_path_info['max_path'] = list(current_path)\n",
        "\n",
        "    for neighbor, weight in graph[node]:\n",
        "        if neighbor not in visited or (neighbor == start_node and len(current_path) > 1):\n",
        "            if neighbor != start_node:  # 始点に戻る場合は訪問済みにしない\n",
        "                visited.add(neighbor)\n",
        "            dfs(graph, neighbor, start_node, visited, current_path, current_length + weight, max_path_info)\n",
        "            if neighbor != start_node:  # 探索を戻る際に訪問済みを解除\n",
        "                visited.remove(neighbor)\n",
        "\n",
        "    current_path.pop()\n",
        "\n",
        "# メイン処理\n",
        "def find_longest_path(edges):\n",
        "    graph = build_graph(edges)\n",
        "    max_path_info = {'max_length': 0, 'max_path': []}\n",
        "\n",
        "    # すべてのノードを始点として最長経路を探す\n",
        "    nodes = set(start for start, _, _ in edges) | set(end for _, end, _ in edges)\n",
        "    for node in nodes:\n",
        "        visited = set()\n",
        "        visited.add(node)\n",
        "        dfs(graph, node, node, visited, [], 0, max_path_info)\n",
        "\n",
        "    return max_path_info['max_path']\n",
        "\n",
        "# 入力データの受け取り\n",
        "def input_edges():\n",
        "    print(\"始点ID, 終点ID, 距離 (例: 1, 2, 8.54)\")\n",
        "    print(\"入力を終了するには空行を入力してください。\")\n",
        "    edges = []\n",
        "    while True:\n",
        "        line = input(\"入力: \").strip()\n",
        "        if not line:\n",
        "            break\n",
        "        try:\n",
        "            start, end, weight = map(str.strip, line.split(\",\"))\n",
        "            edges.append((int(start), int(end), float(weight)))\n",
        "        except ValueError:\n",
        "            print(\"フォーマットが正しくありません。もう一度入力してください。\")\n",
        "    return edges\n",
        "\n",
        "# 実行\n",
        "if __name__ == \"__main__\":\n",
        "    print(\"最長片道きっぷの駅順\")\n",
        "    edges = input_edges()\n",
        "    if not edges:\n",
        "        print(\"データが入力されていません。プログラムを終了します。\")\n",
        "    else:\n",
        "        longest_path = find_longest_path(edges)\n",
        "        print(\"最長経路の駅順:\")\n",
        "        print(\"\\n\".join(map(str, longest_path)))"
      ]
    }
  ]
}